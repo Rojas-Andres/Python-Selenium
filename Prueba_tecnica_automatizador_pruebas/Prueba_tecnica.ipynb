{
 "cells": [
  {
   "cell_type": "code",
   "execution_count": 19,
   "metadata": {},
   "outputs": [],
   "source": [
    "from selenium import webdriver\n",
    "import time\n",
    "from selenium.webdriver.common.by import By\n",
    "from selenium.webdriver.common.keys import Keys"
   ]
  },
  {
   "cell_type": "code",
   "execution_count": 3,
   "metadata": {},
   "outputs": [],
   "source": [
    "url = \"https://www.utest.com/\"\n",
    "driver = webdriver.Chrome('C:\\webdrivers\\chromedriver.exe')\n",
    "driver.get(url)"
   ]
  },
  {
   "cell_type": "code",
   "execution_count": 4,
   "metadata": {},
   "outputs": [],
   "source": [
    "#Entrar al formulario\n",
    "driver.find_element_by_xpath('//a[@class=\"unauthenticated-nav-bar__sign-up\"]').click()"
   ]
  },
  {
   "cell_type": "code",
   "execution_count": 6,
   "metadata": {},
   "outputs": [],
   "source": [
    "#Step 1 Primeros campos\n",
    "driver.find_element_by_id('firstName').send_keys('Andres')\n",
    "driver.find_element_by_id('lastName').send_keys('Rojas')\n",
    "driver.find_element_by_id('email').send_keys('an@gmail.com')"
   ]
  },
  {
   "cell_type": "code",
   "execution_count": 12,
   "metadata": {},
   "outputs": [],
   "source": [
    "# 2 paso\n",
    "# Mes\n",
    "driver.find_element_by_id('birthMonth').click()\n",
    "driver.find_element_by_xpath('//option[@label=\"April\"]').click()\n",
    "# Day\n",
    "driver.find_element_by_id('birthDay').click()\n",
    "driver.find_element_by_xpath('//option[@label=\"10\"]').click()\n",
    "#Year\n",
    "driver.find_element_by_id('birthYear').click()\n",
    "driver.find_element_by_xpath('//option[@label=\"2000\"]').click()"
   ]
  },
  {
   "cell_type": "code",
   "execution_count": 13,
   "metadata": {},
   "outputs": [],
   "source": [
    "driver.find_element_by_xpath('//i[@class=\"material-icons\"]').click()"
   ]
  },
  {
   "cell_type": "code",
   "execution_count": 22,
   "metadata": {},
   "outputs": [],
   "source": [
    "el = driver.find_element(By.ID,\"city\")\n",
    "el.click()\n",
    "time.sleep(1)\n",
    "el.send_keys('Cali')\n",
    "time.sleep(1)\n",
    "el.send_keys(Keys.DOWN)\n",
    "el.send_keys(Keys.ENTER)\n",
    "#Codigo postal\n",
    "driver.find_element_by_id(\"zip\").send_keys(\"77001\")"
   ]
  },
  {
   "cell_type": "code",
   "execution_count": 24,
   "metadata": {},
   "outputs": [],
   "source": [
    "#click al otra parte del formulario\n",
    "driver.find_element_by_xpath('//a[@class=\"btn btn-blue pull-right\"]').click()"
   ]
  },
  {
   "cell_type": "code",
   "execution_count": 29,
   "metadata": {},
   "outputs": [],
   "source": [
    "#Brand\n",
    "brand = driver.find_element_by_xpath('(//span[@class=\"btn btn-default form-control ui-select-toggle\"])[4]').click()\n",
    "\n",
    "time.sleep(3)\n",
    "driver.find_element_by_xpath('//input[@placeholder=\"Select Brand\"]').send_keys(\"Apple\")\n",
    "driver.find_element_by_xpath('//span[@class=\"ui-select-highlight\"]').click()"
   ]
  },
  {
   "cell_type": "code",
   "execution_count": 31,
   "metadata": {},
   "outputs": [],
   "source": [
    "#Model\n",
    "brand = driver.find_element_by_xpath('(//span[@class=\"btn btn-default form-control ui-select-toggle\"])[5]').click()\n",
    "\n",
    "time.sleep(3)\n",
    "driver.find_element_by_xpath('//input[@placeholder=\"Select a Model\"]').send_keys(\"iPhone 3G\")\n",
    "driver.find_element_by_xpath('(//span[@class=\"ui-select-highlight\"])[1]').click()"
   ]
  },
  {
   "cell_type": "code",
   "execution_count": 36,
   "metadata": {},
   "outputs": [],
   "source": [
    "# SO \n",
    "brand = driver.find_element_by_xpath('(//span[@class=\"btn btn-default form-control ui-select-toggle\"])[6]').click()\n",
    "\n",
    "time.sleep(3)\n",
    "driver.find_element_by_xpath('(//input[@placeholder=\"Select OS\"])[2]').send_keys(\"iOS 2.0\")\n",
    "driver.find_element_by_xpath('(//span[@class=\"ui-select-highlight\"])[1]').click()"
   ]
  },
  {
   "cell_type": "code",
   "execution_count": 38,
   "metadata": {},
   "outputs": [],
   "source": [
    "#Siguiente parte del formulario\n",
    "driver.find_element_by_xpath('//a[@class=\"btn btn-blue pull-right\"]').click()"
   ]
  },
  {
   "cell_type": "code",
   "execution_count": 45,
   "metadata": {},
   "outputs": [],
   "source": [
    "password = \"*vdnti1sR*pStxkgpn%I6\"\n",
    "a = driver.find_element_by_id('password')\n",
    "a.send_keys(password)\n",
    "time.sleep(1)\n",
    "# confirm password\n",
    "b = driver.find_element_by_id('confirmPassword')\n",
    "b.send_keys(password)"
   ]
  },
  {
   "cell_type": "code",
   "execution_count": 47,
   "metadata": {},
   "outputs": [],
   "source": [
    "driver.find_element_by_xpath('(//span[@class=\"checkmark signup-consent__checkbox error\"])[1]').click()\n",
    "\n",
    "driver.find_element_by_xpath('//span[@class=\"checkmark signup-consent__checkbox error\"]').click()\n"
   ]
  },
  {
   "cell_type": "code",
   "execution_count": 48,
   "metadata": {},
   "outputs": [],
   "source": [
    "#Final\n",
    "driver.find_element_by_xpath('//a[@class=\"btn btn-blue\"]').click()"
   ]
  }
 ],
 "metadata": {
  "kernelspec": {
   "display_name": "Python 3",
   "language": "python",
   "name": "python3"
  },
  "language_info": {
   "codemirror_mode": {
    "name": "ipython",
    "version": 3
   },
   "file_extension": ".py",
   "mimetype": "text/x-python",
   "name": "python",
   "nbconvert_exporter": "python",
   "pygments_lexer": "ipython3",
   "version": "3.8.5"
  }
 },
 "nbformat": 4,
 "nbformat_minor": 4
}
